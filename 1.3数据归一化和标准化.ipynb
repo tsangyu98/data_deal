{
 "cells": [
  {
   "cell_type": "code",
   "execution_count": null,
   "metadata": {},
   "outputs": [],
   "source": [
    "'''\n",
    "【课程1.3】  数据归一化/标准化\n",
    "\n",
    " 数据的标准化（normalization）是将数据按比例缩放，使之落入一个小的特定区间。\n",
    " 在某些比较和评价的指标处理中经常会用到，去除数据的单位限制，将其转化为无量纲的纯数值，便于不同单位或量级的指标能够进行比较和加权\n",
    " \n",
    "最典型的就是数据的归一化处理，即将数据统一映射到[0,1]区间上\n",
    "\n",
    "0-1标准化 / Z-score标准化\n",
    "\n",
    "'''"
   ]
  },
  {
   "cell_type": "code",
   "execution_count": 1,
   "metadata": {
    "ExecuteTime": {
     "end_time": "2020-01-16T12:43:19.551716Z",
     "start_time": "2020-01-16T12:43:18.918270Z"
    }
   },
   "outputs": [],
   "source": [
    "# 导包\n",
    "import numpy as np\n",
    "import pandas as pd\n",
    "import matplotlib.pyplot as plt\n",
    "%matplotlib inline"
   ]
  },
  {
   "cell_type": "code",
   "execution_count": 5,
   "metadata": {
    "ExecuteTime": {
     "end_time": "2020-01-16T12:59:09.531778Z",
     "start_time": "2020-01-16T12:59:09.514376Z"
    }
   },
   "outputs": [
    {
     "name": "stdout",
     "output_type": "stream",
     "text": [
      "      value1     value2\n",
      "0   2.489235  91.852238\n",
      "1  11.613377  18.116014\n",
      "2  16.089268  79.555095\n",
      "3  13.976375  83.676973\n",
      "4   0.788001  53.277540\n",
      "----------------------------------------------------------------------------------------\n",
      "      value1     value2  value1_norm  value2_norm\n",
      "0   2.489235  91.852238     0.121025     1.000000\n",
      "1  11.613377  18.116014     0.647941     0.023929\n",
      "2  16.089268  79.555095     0.906422     0.837219\n",
      "3  13.976375  83.676973     0.784403     0.891781\n",
      "4   0.788001  53.277540     0.022779     0.489374\n"
     ]
    }
   ],
   "source": [
    "# 数据归一化\n",
    "# 将数据的最大最小值记录下来，并通过Max-Min作为基数(min=0, max=1)进行数据的归一化处理\n",
    "# x1 = (x-min) / (max - min)  x = x1 * (1-0) + 0\n",
    "\n",
    "# 创建数据\n",
    "df = pd.DataFrame({'value1': np.random.rand(10) * 20,\n",
    "                  'value2': np.random.rand(10) * 100})\n",
    "print(df.head())\n",
    "print('-' * 88)\n",
    "\n",
    "def data_norm(data, *cols):\n",
    "    \"\"\"定义归一化方法\"\"\"\n",
    "    data_c = data.copy()\n",
    "    for col in cols:\n",
    "        data_c[col + '_norm'] = ((data[col] - data[col].min()) / (data[col].max() - data[col].min())) * (1-0) + 0\n",
    "    return data_c\n",
    "    \n",
    "# 对数据进行归一化\n",
    "df_norm = data_norm(df, 'value1', 'value2')\n",
    "print(df_norm.head())"
   ]
  },
  {
   "cell_type": "code",
   "execution_count": 7,
   "metadata": {
    "ExecuteTime": {
     "end_time": "2020-01-16T13:15:11.994833Z",
     "start_time": "2020-01-16T13:15:11.979928Z"
    }
   },
   "outputs": [
    {
     "name": "stdout",
     "output_type": "stream",
     "text": [
      "      value1     value2\n",
      "0  83.293320  61.181598\n",
      "1  20.053564  69.796289\n",
      "2  11.217143  18.897966\n",
      "3  52.698953  27.697346\n",
      "4  24.293995   5.714165\n",
      "----------------------------------------------------------------------------------------\n",
      "      value1     value2  value1_zcore  value2_zcore\n",
      "0  83.293320  61.181598      1.278215      0.354038\n",
      "1  20.053564  69.796289     -0.657160      0.597014\n",
      "2  11.217143  18.897966     -0.927587     -0.838565\n",
      "3  52.698953  27.697346      0.341912     -0.590380\n",
      "4  24.293995   5.714165     -0.527386     -1.210411\n"
     ]
    }
   ],
   "source": [
    "# 数据标准化\n",
    "# （2）Z-score标准化\n",
    "# Z分数（z-score）,是一个分数与平均数的差再除以标准差的过程 → z=(x-μ)/σ，其中x为某一具体分数，μ为平均数，σ为标准差\n",
    "# Z值的量代表着原始分数和母体平均值之间的距离，是以标准差为单位计算。在原始分数低于平均值时Z则为负数，反之则为正数\n",
    "# 数学意义：一个给定分数距离平均数多少个标准差?\n",
    "\n",
    "df = pd.DataFrame({\n",
    "    'value1': np.random.rand(10) * 100,\n",
    "    'value2': np.random.rand(10) * 100\n",
    "})\n",
    "print(df.head())\n",
    "print('-' * 88)\n",
    "\n",
    "def data_znorm(data, *cols):\n",
    "    \"\"\"数据标准化\"\"\"\n",
    "    data_c = data.copy()\n",
    "    for col in cols:\n",
    "        # 计算平均值\n",
    "        mean = data_c[col].mean()\n",
    "        # 计算标准差\n",
    "        std = data_c[col].std()\n",
    "        # 计算Zscore\n",
    "        data_c[col + '_zcore'] = (data_c[col] - mean) / std\n",
    "    return data_c\n",
    "\n",
    "# 对数据进行标准化\n",
    "data_z = data_znorm(df, 'value1', 'value2')\n",
    "print(data_z.head())\n",
    "\n",
    "# 经过标准化的数据符合标准正太分布，均值为0，标准差为1\n",
    "# 在分类、聚类算法中，需要使用距离来度量相似性的时候，z-score表现良好"
   ]
  },
  {
   "cell_type": "code",
   "execution_count": 14,
   "metadata": {
    "ExecuteTime": {
     "end_time": "2020-01-16T13:23:50.557631Z",
     "start_time": "2020-01-16T13:23:50.344417Z"
    }
   },
   "outputs": [
    {
     "name": "stdout",
     "output_type": "stream",
     "text": [
      "      value1     value2\n",
      "A  17.941900  70.026473\n",
      "B  12.235642  84.607177\n",
      "C   2.265442  84.200399\n",
      "D  24.078847  33.619864\n",
      "E  13.739359  98.727461\n",
      "F  16.950514   8.805950\n",
      "G   1.157746   3.882645\n",
      "H   6.945295  51.243272\n",
      "I   7.034646  83.912128\n",
      "J   8.796862  49.474450\n",
      "----------------------------------------------------------------------------------------\n"
     ]
    },
    {
     "data": {
      "text/html": [
       "<div>\n",
       "<style scoped>\n",
       "    .dataframe tbody tr th:only-of-type {\n",
       "        vertical-align: middle;\n",
       "    }\n",
       "\n",
       "    .dataframe tbody tr th {\n",
       "        vertical-align: top;\n",
       "    }\n",
       "\n",
       "    .dataframe thead th {\n",
       "        text-align: right;\n",
       "    }\n",
       "</style>\n",
       "<table border=\"1\" class=\"dataframe\">\n",
       "  <thead>\n",
       "    <tr style=\"text-align: right;\">\n",
       "      <th></th>\n",
       "      <th>value1</th>\n",
       "      <th>value2</th>\n",
       "      <th>value1_zcore</th>\n",
       "      <th>value2_zcore</th>\n",
       "      <th>f</th>\n",
       "    </tr>\n",
       "  </thead>\n",
       "  <tbody>\n",
       "    <tr>\n",
       "      <th>D</th>\n",
       "      <td>24.078847</td>\n",
       "      <td>33.619864</td>\n",
       "      <td>1.786898</td>\n",
       "      <td>-0.699798</td>\n",
       "      <td>0.792220</td>\n",
       "    </tr>\n",
       "    <tr>\n",
       "      <th>A</th>\n",
       "      <td>17.941900</td>\n",
       "      <td>70.026473</td>\n",
       "      <td>0.941024</td>\n",
       "      <td>0.396936</td>\n",
       "      <td>0.723389</td>\n",
       "    </tr>\n",
       "    <tr>\n",
       "      <th>E</th>\n",
       "      <td>13.739359</td>\n",
       "      <td>98.727461</td>\n",
       "      <td>0.361775</td>\n",
       "      <td>1.261542</td>\n",
       "      <td>0.721682</td>\n",
       "    </tr>\n",
       "    <tr>\n",
       "      <th>B</th>\n",
       "      <td>12.235642</td>\n",
       "      <td>84.607177</td>\n",
       "      <td>0.154513</td>\n",
       "      <td>0.836174</td>\n",
       "      <td>0.427178</td>\n",
       "    </tr>\n",
       "    <tr>\n",
       "      <th>I</th>\n",
       "      <td>7.034646</td>\n",
       "      <td>83.912128</td>\n",
       "      <td>-0.562356</td>\n",
       "      <td>0.815236</td>\n",
       "      <td>-0.011319</td>\n",
       "    </tr>\n",
       "    <tr>\n",
       "      <th>F</th>\n",
       "      <td>16.950514</td>\n",
       "      <td>8.805950</td>\n",
       "      <td>0.804378</td>\n",
       "      <td>-1.447307</td>\n",
       "      <td>-0.096296</td>\n",
       "    </tr>\n",
       "    <tr>\n",
       "      <th>J</th>\n",
       "      <td>8.796862</td>\n",
       "      <td>49.474450</td>\n",
       "      <td>-0.319464</td>\n",
       "      <td>-0.222185</td>\n",
       "      <td>-0.280553</td>\n",
       "    </tr>\n",
       "    <tr>\n",
       "      <th>C</th>\n",
       "      <td>2.265442</td>\n",
       "      <td>84.200399</td>\n",
       "      <td>-1.219710</td>\n",
       "      <td>0.823920</td>\n",
       "      <td>-0.402258</td>\n",
       "    </tr>\n",
       "    <tr>\n",
       "      <th>H</th>\n",
       "      <td>6.945295</td>\n",
       "      <td>51.243272</td>\n",
       "      <td>-0.574672</td>\n",
       "      <td>-0.168900</td>\n",
       "      <td>-0.412363</td>\n",
       "    </tr>\n",
       "    <tr>\n",
       "      <th>G</th>\n",
       "      <td>1.157746</td>\n",
       "      <td>3.882645</td>\n",
       "      <td>-1.372387</td>\n",
       "      <td>-1.595620</td>\n",
       "      <td>-1.461680</td>\n",
       "    </tr>\n",
       "  </tbody>\n",
       "</table>\n",
       "</div>"
      ],
      "text/plain": [
       "      value1     value2  value1_zcore  value2_zcore         f\n",
       "D  24.078847  33.619864      1.786898     -0.699798  0.792220\n",
       "A  17.941900  70.026473      0.941024      0.396936  0.723389\n",
       "E  13.739359  98.727461      0.361775      1.261542  0.721682\n",
       "B  12.235642  84.607177      0.154513      0.836174  0.427178\n",
       "I   7.034646  83.912128     -0.562356      0.815236 -0.011319\n",
       "F  16.950514   8.805950      0.804378     -1.447307 -0.096296\n",
       "J   8.796862  49.474450     -0.319464     -0.222185 -0.280553\n",
       "C   2.265442  84.200399     -1.219710      0.823920 -0.402258\n",
       "H   6.945295  51.243272     -0.574672     -0.168900 -0.412363\n",
       "G   1.157746   3.882645     -1.372387     -1.595620 -1.461680"
      ]
     },
     "execution_count": 14,
     "metadata": {},
     "output_type": "execute_result"
    },
    {
     "data": {
      "image/png": "[encoded data removed]",
      "text/plain": [
       "<Figure size 720x576 with 1 Axes>"
      ]
     },
     "metadata": {
      "needs_background": "light"
     },
     "output_type": "display_data"
    }
   ],
   "source": [
    "# 案例应用\n",
    "# 八类产品的两个指标value1,value2,其中value1权重为0.6，value2的权重为0.4\n",
    "# 通过标准化，判断哪个产品综合指标状况良好\n",
    "\n",
    "df = pd.DataFrame({'value1': np.random.rand(10)*30,\n",
    "                  'value2': np.random.rand(10)* 100}, index=list('ABCDEFGHIJ'))\n",
    "print(df)\n",
    "print('-' * 88)\n",
    "# 创建数据\n",
    "\n",
    "data = data_znorm(df, 'value1', 'value2')\n",
    "data['f'] = data['value1_zcore'] * 0.6 + data['value2_zcore'] * 0.4\n",
    "data.sort_values('f', inplace=True, ascending=False)\n",
    "# 做折线图\n",
    "data['f'].plot(kind='line', style='--b*', grid=True, figsize=(10, 8))\n",
    "data"
   ]
  }
 ],
 "metadata": {
  "kernelspec": {
   "display_name": "Python 3",
   "language": "python",
   "name": "python3"
  },
  "language_info": {
   "codemirror_mode": {
    "name": "ipython",
    "version": 3
   },
   "file_extension": ".py",
   "mimetype": "text/x-python",
   "name": "python",
   "nbconvert_exporter": "python",
   "pygments_lexer": "ipython3",
   "version": "3.8.0"
  },
  "toc": {
   "base_numbering": 1,
   "nav_menu": {},
   "number_sections": true,
   "sideBar": true,
   "skip_h1_title": false,
   "title_cell": "Table of Contents",
   "title_sidebar": "Contents",
   "toc_cell": false,
   "toc_position": {},
   "toc_section_display": true,
   "toc_window_display": false
  },
  "varInspector": {
   "cols": {
    "lenName": 16,
    "lenType": 16,
    "lenVar": 40
   },
   "kernels_config": {
    "python": {
     "delete_cmd_postfix": "",
     "delete_cmd_prefix": "del ",
     "library": "var_list.py",
     "varRefreshCmd": "print(var_dic_list())"
    },
    "r": {
     "delete_cmd_postfix": ") ",
     "delete_cmd_prefix": "rm(",
     "library": "var_list.r",
     "varRefreshCmd": "cat(var_dic_list()) "
    }
   },
   "types_to_exclude": [
    "module",
    "function",
    "builtin_function_or_method",
    "instance",
    "_Feature"
   ],
   "window_display": false
  }
 },
 "nbformat": 4,
 "nbformat_minor": 2
}
